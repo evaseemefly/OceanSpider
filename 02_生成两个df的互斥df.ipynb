{
 "cells": [
  {
   "cell_type": "code",
   "execution_count": 216,
   "id": "consistent-charter",
   "metadata": {},
   "outputs": [],
   "source": [
    "import requests\n",
    "from lxml import etree\n",
    "from typing import List\n",
    "import arrow\n",
    "import datetime\n",
    "import pandas as pd\n",
    "import numpy as np\n",
    "import pathlib"
   ]
  },
  {
   "cell_type": "code",
   "execution_count": 217,
   "id": "white-preview",
   "metadata": {},
   "outputs": [],
   "source": [
    "dir_path_str:str=r'D:\\01Proj\\OceanSpider\\qinglan_2021_source'"
   ]
  },
  {
   "cell_type": "code",
   "execution_count": 218,
   "id": "classified-representation",
   "metadata": {},
   "outputs": [],
   "source": [
    "dir_path=pathlib.Path(dir_path_str)\n",
    "full_path_str:str=str(dir_path/'qinglan_2021_all.csv')"
   ]
  },
  {
   "cell_type": "code",
   "execution_count": 219,
   "id": "native-poultry",
   "metadata": {},
   "outputs": [
    {
     "data": {
      "text/plain": [
       "'D:\\\\01Proj\\\\OceanSpider\\\\qinglan_2021_source\\\\qinglan_2021_all.csv'"
      ]
     },
     "execution_count": 219,
     "metadata": {},
     "output_type": "execute_result"
    }
   ],
   "source": [
    "full_path_str"
   ]
  },
  {
   "cell_type": "code",
   "execution_count": 220,
   "id": "aggregate-wednesday",
   "metadata": {},
   "outputs": [],
   "source": [
    "def init_all_year_ser(year: int, freq: str = '1H'):\n",
    "    \"\"\"\n",
    "        生成指定年份的整点series\n",
    "    :param year:\n",
    "    :return:\n",
    "    \"\"\"\n",
    "    start_utc_ar = arrow.get(year, 1, 1)\n",
    "    end_utc_ar = start_utc_ar.shift(days=365).shift(seconds=-1)\n",
    "\n",
    "    dt_index = pd.date_range(start_utc_ar.datetime, end_utc_ar.datetime, freq=freq, name='ts')\n",
    "    return dt_index"
   ]
  },
  {
   "cell_type": "code",
   "execution_count": 221,
   "id": "macro-jewelry",
   "metadata": {},
   "outputs": [],
   "source": [
    "# step2: 数据标准化\n",
    "# TODO:[*] 此处在提取整点时刻的数据时出错！,注意\n",
    "read_df = pd.read_csv(full_path_str, parse_dates=['ts'])\n",
    "# step2-1: 将爬取的原始数数据按照时间间隔为1min提取为分钟数据，并按照向上填充的方式进行填充\n",
    "def str2int64(val: str):\n",
    "    return np.int64(val)\n",
    "def dt64ToTs(val64):\n",
    "    \"\"\"\n",
    "        datetime64[ns] -> timestamp\n",
    "    :param val:\n",
    "    :return:\n",
    "    \"\"\"\n",
    "    # 注意此处需要转换为 int 时间戳\n",
    "    dt: datetime.datetime = pd.Timestamp(val64).to_pydatetime()\n",
    "    return arrow.get(dt).int_timestamp"
   ]
  },
  {
   "cell_type": "code",
   "execution_count": 222,
   "id": "aboriginal-partition",
   "metadata": {},
   "outputs": [],
   "source": [
    "# 将时间戳 str -> int\n",
    "read_df['ts'] = read_df.apply(lambda x: str2int64(x['ts']), axis=1)\n",
    "read_df.set_index('ts')\n",
    "# 生成 分钟级的索引列表\n",
    "dt_split_minute_indexs = init_all_year_ser(2021, '60s')"
   ]
  },
  {
   "cell_type": "code",
   "execution_count": 223,
   "id": "logical-stationery",
   "metadata": {},
   "outputs": [
    {
     "data": {
      "text/plain": [
       "DatetimeIndex(['2021-01-01 00:00:00+00:00', '2021-01-01 00:01:00+00:00',\n",
       "               '2021-01-01 00:02:00+00:00', '2021-01-01 00:03:00+00:00',\n",
       "               '2021-01-01 00:04:00+00:00'],\n",
       "              dtype='datetime64[ns, tzutc()]', name='ts', freq='60S')"
      ]
     },
     "execution_count": 223,
     "metadata": {},
     "output_type": "execute_result"
    }
   ],
   "source": [
    "dt_split_minute_indexs[:5]"
   ]
  },
  {
   "cell_type": "code",
   "execution_count": 224,
   "id": "adjustable-printer",
   "metadata": {},
   "outputs": [],
   "source": [
    "# 注意其中的 dt 为 numpy.datetime64 类型！\n",
    "dt_split_minute_stamp_df = pd.DataFrame(\n",
    "    {'index': np.arange(0, len(dt_split_minute_indexs)), 'dt': dt_split_minute_indexs})\n",
    "# 将匹配的全部分钟df加入时间戳\n",
    "dt_split_minute_stamp_df['ts'] = dt_split_minute_stamp_df.apply(lambda x: dt64ToTs(x['dt']), axis=1)\n",
    "# 设置 ts 为 index\n",
    "dt_split_minute_stamp_df.set_index('ts')\n",
    "# 将该年份所有分钟数据按照就近原则进行填充\n",
    "reslt_all_df = pd.merge(dt_split_minute_stamp_df, read_df, on='ts', how='outer')\n",
    "# reslt_all_df = reslt_all_df.fillna(method='ffill', axis=0)[['dt_x', 'ts', 'rad']]"
   ]
  },
  {
   "cell_type": "code",
   "execution_count": 256,
   "id": "funky-judgment",
   "metadata": {},
   "outputs": [
    {
     "data": {
      "text/html": [
       "<div>\n",
       "<style scoped>\n",
       "    .dataframe tbody tr th:only-of-type {\n",
       "        vertical-align: middle;\n",
       "    }\n",
       "\n",
       "    .dataframe tbody tr th {\n",
       "        vertical-align: top;\n",
       "    }\n",
       "\n",
       "    .dataframe thead th {\n",
       "        text-align: right;\n",
       "    }\n",
       "</style>\n",
       "<table border=\"1\" class=\"dataframe\">\n",
       "  <thead>\n",
       "    <tr style=\"text-align: right;\">\n",
       "      <th></th>\n",
       "      <th>index</th>\n",
       "      <th>dt</th>\n",
       "      <th>ts</th>\n",
       "    </tr>\n",
       "  </thead>\n",
       "  <tbody>\n",
       "    <tr>\n",
       "      <th>0</th>\n",
       "      <td>0</td>\n",
       "      <td>2021-01-01 00:00:00+00:00</td>\n",
       "      <td>1609459200</td>\n",
       "    </tr>\n",
       "    <tr>\n",
       "      <th>1</th>\n",
       "      <td>1</td>\n",
       "      <td>2021-01-01 00:01:00+00:00</td>\n",
       "      <td>1609459260</td>\n",
       "    </tr>\n",
       "    <tr>\n",
       "      <th>2</th>\n",
       "      <td>2</td>\n",
       "      <td>2021-01-01 00:02:00+00:00</td>\n",
       "      <td>1609459320</td>\n",
       "    </tr>\n",
       "    <tr>\n",
       "      <th>3</th>\n",
       "      <td>3</td>\n",
       "      <td>2021-01-01 00:03:00+00:00</td>\n",
       "      <td>1609459380</td>\n",
       "    </tr>\n",
       "    <tr>\n",
       "      <th>4</th>\n",
       "      <td>4</td>\n",
       "      <td>2021-01-01 00:04:00+00:00</td>\n",
       "      <td>1609459440</td>\n",
       "    </tr>\n",
       "    <tr>\n",
       "      <th>...</th>\n",
       "      <td>...</td>\n",
       "      <td>...</td>\n",
       "      <td>...</td>\n",
       "    </tr>\n",
       "    <tr>\n",
       "      <th>525595</th>\n",
       "      <td>525595</td>\n",
       "      <td>2021-12-31 23:55:00+00:00</td>\n",
       "      <td>1640994900</td>\n",
       "    </tr>\n",
       "    <tr>\n",
       "      <th>525596</th>\n",
       "      <td>525596</td>\n",
       "      <td>2021-12-31 23:56:00+00:00</td>\n",
       "      <td>1640994960</td>\n",
       "    </tr>\n",
       "    <tr>\n",
       "      <th>525597</th>\n",
       "      <td>525597</td>\n",
       "      <td>2021-12-31 23:57:00+00:00</td>\n",
       "      <td>1640995020</td>\n",
       "    </tr>\n",
       "    <tr>\n",
       "      <th>525598</th>\n",
       "      <td>525598</td>\n",
       "      <td>2021-12-31 23:58:00+00:00</td>\n",
       "      <td>1640995080</td>\n",
       "    </tr>\n",
       "    <tr>\n",
       "      <th>525599</th>\n",
       "      <td>525599</td>\n",
       "      <td>2021-12-31 23:59:00+00:00</td>\n",
       "      <td>1640995140</td>\n",
       "    </tr>\n",
       "  </tbody>\n",
       "</table>\n",
       "<p>525600 rows × 3 columns</p>\n",
       "</div>"
      ],
      "text/plain": [
       "         index                        dt          ts\n",
       "0            0 2021-01-01 00:00:00+00:00  1609459200\n",
       "1            1 2021-01-01 00:01:00+00:00  1609459260\n",
       "2            2 2021-01-01 00:02:00+00:00  1609459320\n",
       "3            3 2021-01-01 00:03:00+00:00  1609459380\n",
       "4            4 2021-01-01 00:04:00+00:00  1609459440\n",
       "...        ...                       ...         ...\n",
       "525595  525595 2021-12-31 23:55:00+00:00  1640994900\n",
       "525596  525596 2021-12-31 23:56:00+00:00  1640994960\n",
       "525597  525597 2021-12-31 23:57:00+00:00  1640995020\n",
       "525598  525598 2021-12-31 23:58:00+00:00  1640995080\n",
       "525599  525599 2021-12-31 23:59:00+00:00  1640995140\n",
       "\n",
       "[525600 rows x 3 columns]"
      ]
     },
     "execution_count": 256,
     "metadata": {},
     "output_type": "execute_result"
    }
   ],
   "source": [
    "dt_split_minute_stamp_df"
   ]
  },
  {
   "cell_type": "code",
   "execution_count": 225,
   "id": "focused-geology",
   "metadata": {},
   "outputs": [],
   "source": [
    "# -----\n",
    "# step2-2: 将分钟数据提取整点时刻并存储至新的文件\n",
    "dt_split_hours_indexs = init_all_year_ser(2021)\n",
    "# 整点时间标记df\n",
    "dt_split_hours_stamp_df = pd.DataFrame(\n",
    "    {'index': np.arange(0, len(dt_split_hours_indexs)), 'dt': dt_split_hours_indexs})\n",
    "dt_split_hours_stamp_df['ts'] = dt_split_hours_stamp_df.apply(lambda x: dt64ToTs(x['dt']), axis=1)\n",
    "dt_split_hours_stamp_df.set_index('ts')\n",
    "# 将 read_df 与 dt_split_hours_stamp_df 合并\n",
    "# TODO: [*] 22-04-27 注意 使用 how='outer' 时会出现 : ValueError: Timezones don't match. 'tzutc()' != 'UTC'\n",
    "# 使用 int timestamp 后 ,merge 出现 : {ValueError}You are trying to merge on int64 and object columns. If you wish to proceed you should use pd.concat\n",
    "# 注意 read_df 中的 ts 是 str | dt_split_hours_stamp_df 中的 ts 是 int64\n",
    "# 切记此处由于是需要将全部分钟数据提取为 整点数据，所以此处切记不要写成reslt_df，这有一个隐藏bug，注意！\n",
    "reslt_df = pd.merge(dt_split_hours_stamp_df, reslt_all_df, on='ts', how='left')\n",
    "# 注意此处不需要再执行填充操作了，因为上面的全分钟df已经包含了可能的全部时间\n",
    "# reslt_df = reslt_df.fillna(method='ffill', axis=0)[['dt_x', 'ts', 'rad']]\n",
    "# to_store('/opt/project', 'qinglan_2021_fill.csv', reslt_df)\n",
    "# to_store('/opt/project', 'qinglan_2021_split_hours.csv', reslt_df)"
   ]
  },
  {
   "cell_type": "code",
   "execution_count": 226,
   "id": "ceramic-cigarette",
   "metadata": {},
   "outputs": [],
   "source": [
    "import matplotlib.pyplot as plt\n",
    "import datetime"
   ]
  },
  {
   "cell_type": "markdown",
   "id": "capable-platinum",
   "metadata": {},
   "source": [
    "---"
   ]
  },
  {
   "cell_type": "markdown",
   "id": "increasing-restaurant",
   "metadata": {},
   "source": [
    "### step3:获取该年份所有月份，并获取每个月份的起止时间，获取线性插值之后的 `dataframe`  \n",
    "* 对`dataframe`进行差值使用了`.interpolate`方法，api参考:  \n",
    "[Pandas DataFrame interpolate() 方法](https://cankaoshouce.com/pandas-ref-dataframe/pandas-df-interpolate.html)  \n",
    "[pandas：超级方便的插值函数interpolate](https://zhuanlan.zhihu.com/p/357459373)  \n",
    "[官方api](https://pandas.pydata.org/pandas-docs/stable/reference/api/pandas.DataFrame.interpolate.html)  \n",
    "* 使用拉格朗日差值填充 nan (未用到)  \n",
    "[使用拉格朗日插值填充NaN值](https://zhuanlan.zhihu.com/p/477808536)"
   ]
  },
  {
   "cell_type": "code",
   "execution_count": 227,
   "id": "underlying-bargain",
   "metadata": {},
   "outputs": [],
   "source": [
    "def inter_rad_month(start,end,df:pd.DataFrame)->pd.DataFrame:\n",
    "    '''\n",
    "        根据 起止时间 对 df 进行线性插值\n",
    "    '''\n",
    "    # step1: datetime.datetime -> timestamp\n",
    "    start_ts=pd.Timestamp(start).timestamp()\n",
    "    end_ts=pd.Timestamp(end).timestamp()\n",
    "    con1=df['ts']>start_ts\n",
    "    con2=df['ts']<end_ts\n",
    "    reslt_filter_df=reslt_all_df[con1&con2]\n",
    "    reslt_source_df=reslt_filter_df.copy()\n",
    "    rad_inter_list=reslt_filter_df['rad'].interpolate(method='linear',limit=60,limit_direction ='backward')\n",
    "    reslt_filter_df['rad']=rad_inter_list\n",
    "    return [reslt_source_df,reslt_filter_df]"
   ]
  },
  {
   "cell_type": "markdown",
   "id": "personal-oxide",
   "metadata": {},
   "source": [
    "----"
   ]
  },
  {
   "cell_type": "markdown",
   "id": "appreciated-fashion",
   "metadata": {},
   "source": [
    "### S-1 查看指定时间段"
   ]
  },
  {
   "cell_type": "code",
   "execution_count": 228,
   "id": "successful-bathroom",
   "metadata": {},
   "outputs": [],
   "source": [
    "start=datetime.datetime(2021,1,1)\n",
    "end=datetime.datetime(2021,2,1)"
   ]
  },
  {
   "cell_type": "code",
   "execution_count": 229,
   "id": "cordless-exhibit",
   "metadata": {},
   "outputs": [
    {
     "name": "stderr",
     "output_type": "stream",
     "text": [
      "C:\\Users\\evase\\Anaconda3\\envs\\new_oil_gdal\\lib\\site-packages\\ipykernel_launcher.py:13: SettingWithCopyWarning: \n",
      "A value is trying to be set on a copy of a slice from a DataFrame.\n",
      "Try using .loc[row_indexer,col_indexer] = value instead\n",
      "\n",
      "See the caveats in the documentation: https://pandas.pydata.org/pandas-docs/stable/user_guide/indexing.html#returning-a-view-versus-a-copy\n",
      "  del sys.path[0]\n"
     ]
    }
   ],
   "source": [
    "dfs=inter_rad_month(start,end,reslt_all_df)"
   ]
  },
  {
   "cell_type": "code",
   "execution_count": 230,
   "id": "cardiovascular-miller",
   "metadata": {},
   "outputs": [],
   "source": [
    "start_filter=datetime.datetime(2021,1,14)\n",
    "end_filter=datetime.datetime(2021,1,15)\n",
    "start_filter_pd_ts=pd.Timestamp(start_filter)\n",
    "start_filter_ts=start_filter_pd_ts.timestamp()\n",
    "end_pd_ts=pd.Timestamp(end_filter)\n",
    "end_filter_ts=end_pd_ts.timestamp()"
   ]
  },
  {
   "cell_type": "code",
   "execution_count": 231,
   "id": "pending-builder",
   "metadata": {},
   "outputs": [],
   "source": [
    "dfs_source=dfs[0]"
   ]
  },
  {
   "cell_type": "code",
   "execution_count": 232,
   "id": "parliamentary-fields",
   "metadata": {},
   "outputs": [],
   "source": [
    "con1=dfs_source['ts']>start_filter_ts\n",
    "con2=dfs_source['ts']<end_filter_ts"
   ]
  },
  {
   "cell_type": "code",
   "execution_count": 242,
   "id": "brief-launch",
   "metadata": {},
   "outputs": [],
   "source": [
    "dfs_source_res=dfs_source[con1&con2]\n",
    "# 注意此处需要重置索引否则会有问题\n",
    "dfs_source_res.reset_index(inplace=True, drop=True)"
   ]
  },
  {
   "cell_type": "code",
   "execution_count": 234,
   "id": "original-clock",
   "metadata": {},
   "outputs": [
    {
     "data": {
      "image/png": "[encoded data removed]",
      "text/plain": [
       "<Figure size 432x288 with 1 Axes>"
      ]
     },
     "metadata": {
      "needs_background": "light"
     },
     "output_type": "display_data"
    }
   ],
   "source": [
    "plt.plot(dfs_source_res['dt_x'],dfs_source_res['rad'])\n",
    "plt.show()\n"
   ]
  },
  {
   "cell_type": "code",
   "execution_count": 235,
   "id": "hispanic-asthma",
   "metadata": {},
   "outputs": [],
   "source": [
    "dfs_inter=dfs[1]"
   ]
  },
  {
   "cell_type": "code",
   "execution_count": 236,
   "id": "plain-parliament",
   "metadata": {},
   "outputs": [],
   "source": [
    "con1=dfs_inter['ts']>start_filter_ts\n",
    "con2=dfs_inter['ts']<end_filter_ts\n",
    "dfs_inter_res=dfs_inter[con1&con2]"
   ]
  },
  {
   "cell_type": "code",
   "execution_count": 237,
   "id": "sharing-schedule",
   "metadata": {},
   "outputs": [
    {
     "data": {
      "image/png": "[encoded data removed]",
      "text/plain": [
       "<Figure size 432x288 with 1 Axes>"
      ]
     },
     "metadata": {
      "needs_background": "light"
     },
     "output_type": "display_data"
    }
   ],
   "source": [
    "plt.plot(dfs_inter_res['dt_x'],dfs_inter_res['rad'])\n",
    "plt.show()"
   ]
  },
  {
   "cell_type": "markdown",
   "id": "super-dependence",
   "metadata": {},
   "source": [
    "### S-2 将 `df1`与 `df2`中的`rad`列进行互斥"
   ]
  },
  {
   "cell_type": "code",
   "execution_count": 33,
   "id": "foster-papua",
   "metadata": {},
   "outputs": [],
   "source": [
    "dfs_diff_res=pd.concat([dfs_source_res,dfs_inter_res]).drop_duplicates(keep=False)"
   ]
  },
  {
   "cell_type": "code",
   "execution_count": 34,
   "id": "systematic-sculpture",
   "metadata": {},
   "outputs": [
    {
     "data": {
      "image/png": "[encoded data removed]",
      "text/plain": [
       "<Figure size 432x288 with 1 Axes>"
      ]
     },
     "metadata": {
      "needs_background": "light"
     },
     "output_type": "display_data"
    }
   ],
   "source": [
    "plt.plot(dfs_diff_res['dt_x'],dfs_diff_res['rad'])\n",
    "plt.show()"
   ]
  },
  {
   "cell_type": "markdown",
   "id": "identified-facility",
   "metadata": {},
   "source": [
    "---"
   ]
  },
  {
   "cell_type": "code",
   "execution_count": 85,
   "id": "seeing-proportion",
   "metadata": {},
   "outputs": [],
   "source": [
    "def merge_mutual(df1,df2,col_name:str)->pd.DataFrame:    \n",
    "    dfs_diff_series=[]\n",
    "    for index in range(len(df1)):\n",
    "        if df1.iloc[index][col_name]!=df2.iloc[index][col_name]:\n",
    "            dfs_diff_series.append(np.nan)\n",
    "        else:\n",
    "            dfs_diff_series.append(df1.iloc[index][col_name])\n",
    "    reutrn dfs_diff_series"
   ]
  },
  {
   "cell_type": "code",
   "execution_count": 238,
   "id": "sufficient-showcase",
   "metadata": {},
   "outputs": [],
   "source": [
    "def conduct_nan(df: pd.DataFrame, count_max: int, nan_val: np.float64, col_name: str):\n",
    "    '''\n",
    "        处理 df 中的nan\n",
    "        对于连续 len 的 nan，找到最后的nan index，并将 [index-len,index] 均设置为 nan_val，直到连续的 nan < len 为止\n",
    "    '''\n",
    "    df_copy = df.copy()\n",
    "    if len(df_copy) < count_max:\n",
    "        return\n",
    "    # 逐行遍历\n",
    "    for index in range(len(df_copy)):\n",
    "#         print(f'正在处理{index}行数据')\n",
    "        temp = df_copy.iloc[index][col_name]\n",
    "        # 判断是否为 nan 且 是否为超出 df 的行范围\n",
    "        if pd.isna(temp) and len(df_copy) > index + 1:\n",
    "            count = 0\n",
    "            count = count + 1\n",
    "            next_index = 0\n",
    "            last_index = 0\n",
    "            while True:\n",
    "                next_index = next_index + 1\n",
    "                # 总的数据量 > 当前 index + 增量\n",
    "                if len(df_copy) > index + next_index:\n",
    "                    # TODO:[*] 若最后一个是 nan\n",
    "                    # IndexError: single positional indexer is out-of-bounds\n",
    "                    next_temp = df_copy.iloc[index + next_index][col_name]\n",
    "                    if pd.isna(next_temp):\n",
    "                        count = count + 1\n",
    "                        # last_index = next_index\n",
    "                        # if count > count_max:\n",
    "                        #     #  注意此处应该是将所有的 在 [index,last_index] 均设置为 nan_val\n",
    "                        #     df.iloc[index: next_index][col_name] = nan_val\n",
    "                        # else:\n",
    "                        #     pass\n",
    "                    else:\n",
    "                        break\n",
    "                else:\n",
    "                    break\n",
    "            if count > count_max:\n",
    "                #  注意此处应该是将所有的 在 [index,last_index] 均设置为 nan_val\n",
    "                # TODO:[*] - 22-05-09 注意此处 range(a,b) b一定要大于a!\n",
    "                for df_index in range(index, index + count):\n",
    "                    if len(df_copy) >= df_index:\n",
    "                        try:\n",
    "                            # TODO:[-] 22-05-10 切记不要通过 iloc[index][column_name] 的方式进行赋值!\n",
    "                            df_copy.loc[df_index, col_name] = nan_val\n",
    "                        except IndexError as e:\n",
    "                            msg = f'处理到{df_index}时出错,msg:{e}'\n",
    "                            print(msg)\n",
    "\n",
    "    return df_copy"
   ]
  },
  {
   "cell_type": "code",
   "execution_count": 243,
   "id": "covered-liberal",
   "metadata": {},
   "outputs": [],
   "source": [
    "df_new=conduct_nan(dfs_source_res,60,np.float64(99998),'rad')"
   ]
  },
  {
   "cell_type": "code",
   "execution_count": 244,
   "id": "informal-aquatic",
   "metadata": {},
   "outputs": [
    {
     "data": {
      "text/html": [
       "<div>\n",
       "<style scoped>\n",
       "    .dataframe tbody tr th:only-of-type {\n",
       "        vertical-align: middle;\n",
       "    }\n",
       "\n",
       "    .dataframe tbody tr th {\n",
       "        vertical-align: top;\n",
       "    }\n",
       "\n",
       "    .dataframe thead th {\n",
       "        text-align: right;\n",
       "    }\n",
       "</style>\n",
       "<table border=\"1\" class=\"dataframe\">\n",
       "  <thead>\n",
       "    <tr style=\"text-align: right;\">\n",
       "      <th></th>\n",
       "      <th>index</th>\n",
       "      <th>dt_x</th>\n",
       "      <th>ts</th>\n",
       "      <th>Unnamed: 0</th>\n",
       "      <th>dt_y</th>\n",
       "      <th>rad</th>\n",
       "    </tr>\n",
       "  </thead>\n",
       "  <tbody>\n",
       "    <tr>\n",
       "      <th>0</th>\n",
       "      <td>18721.0</td>\n",
       "      <td>2021-01-14 00:01:00+00:00</td>\n",
       "      <td>1610582460</td>\n",
       "      <td>NaN</td>\n",
       "      <td>NaN</td>\n",
       "      <td>NaN</td>\n",
       "    </tr>\n",
       "    <tr>\n",
       "      <th>1</th>\n",
       "      <td>18722.0</td>\n",
       "      <td>2021-01-14 00:02:00+00:00</td>\n",
       "      <td>1610582520</td>\n",
       "      <td>12988.0</td>\n",
       "      <td>2021-01-14 00:02:00+00:00</td>\n",
       "      <td>0.22</td>\n",
       "    </tr>\n",
       "    <tr>\n",
       "      <th>2</th>\n",
       "      <td>18723.0</td>\n",
       "      <td>2021-01-14 00:03:00+00:00</td>\n",
       "      <td>1610582580</td>\n",
       "      <td>12989.0</td>\n",
       "      <td>2021-01-14 00:03:00+00:00</td>\n",
       "      <td>0.22</td>\n",
       "    </tr>\n",
       "    <tr>\n",
       "      <th>3</th>\n",
       "      <td>18724.0</td>\n",
       "      <td>2021-01-14 00:04:00+00:00</td>\n",
       "      <td>1610582640</td>\n",
       "      <td>12990.0</td>\n",
       "      <td>2021-01-14 00:04:00+00:00</td>\n",
       "      <td>0.23</td>\n",
       "    </tr>\n",
       "    <tr>\n",
       "      <th>4</th>\n",
       "      <td>18725.0</td>\n",
       "      <td>2021-01-14 00:05:00+00:00</td>\n",
       "      <td>1610582700</td>\n",
       "      <td>NaN</td>\n",
       "      <td>NaN</td>\n",
       "      <td>NaN</td>\n",
       "    </tr>\n",
       "    <tr>\n",
       "      <th>...</th>\n",
       "      <td>...</td>\n",
       "      <td>...</td>\n",
       "      <td>...</td>\n",
       "      <td>...</td>\n",
       "      <td>...</td>\n",
       "      <td>...</td>\n",
       "    </tr>\n",
       "    <tr>\n",
       "      <th>1434</th>\n",
       "      <td>20155.0</td>\n",
       "      <td>2021-01-14 23:55:00+00:00</td>\n",
       "      <td>1610668500</td>\n",
       "      <td>NaN</td>\n",
       "      <td>NaN</td>\n",
       "      <td>99998.00</td>\n",
       "    </tr>\n",
       "    <tr>\n",
       "      <th>1435</th>\n",
       "      <td>20156.0</td>\n",
       "      <td>2021-01-14 23:56:00+00:00</td>\n",
       "      <td>1610668560</td>\n",
       "      <td>NaN</td>\n",
       "      <td>NaN</td>\n",
       "      <td>99998.00</td>\n",
       "    </tr>\n",
       "    <tr>\n",
       "      <th>1436</th>\n",
       "      <td>20157.0</td>\n",
       "      <td>2021-01-14 23:57:00+00:00</td>\n",
       "      <td>1610668620</td>\n",
       "      <td>NaN</td>\n",
       "      <td>NaN</td>\n",
       "      <td>99998.00</td>\n",
       "    </tr>\n",
       "    <tr>\n",
       "      <th>1437</th>\n",
       "      <td>20158.0</td>\n",
       "      <td>2021-01-14 23:58:00+00:00</td>\n",
       "      <td>1610668680</td>\n",
       "      <td>NaN</td>\n",
       "      <td>NaN</td>\n",
       "      <td>99998.00</td>\n",
       "    </tr>\n",
       "    <tr>\n",
       "      <th>1438</th>\n",
       "      <td>20159.0</td>\n",
       "      <td>2021-01-14 23:59:00+00:00</td>\n",
       "      <td>1610668740</td>\n",
       "      <td>NaN</td>\n",
       "      <td>NaN</td>\n",
       "      <td>99998.00</td>\n",
       "    </tr>\n",
       "  </tbody>\n",
       "</table>\n",
       "<p>1439 rows × 6 columns</p>\n",
       "</div>"
      ],
      "text/plain": [
       "        index                      dt_x          ts  Unnamed: 0  \\\n",
       "0     18721.0 2021-01-14 00:01:00+00:00  1610582460         NaN   \n",
       "1     18722.0 2021-01-14 00:02:00+00:00  1610582520     12988.0   \n",
       "2     18723.0 2021-01-14 00:03:00+00:00  1610582580     12989.0   \n",
       "3     18724.0 2021-01-14 00:04:00+00:00  1610582640     12990.0   \n",
       "4     18725.0 2021-01-14 00:05:00+00:00  1610582700         NaN   \n",
       "...       ...                       ...         ...         ...   \n",
       "1434  20155.0 2021-01-14 23:55:00+00:00  1610668500         NaN   \n",
       "1435  20156.0 2021-01-14 23:56:00+00:00  1610668560         NaN   \n",
       "1436  20157.0 2021-01-14 23:57:00+00:00  1610668620         NaN   \n",
       "1437  20158.0 2021-01-14 23:58:00+00:00  1610668680         NaN   \n",
       "1438  20159.0 2021-01-14 23:59:00+00:00  1610668740         NaN   \n",
       "\n",
       "                           dt_y       rad  \n",
       "0                           NaN       NaN  \n",
       "1     2021-01-14 00:02:00+00:00      0.22  \n",
       "2     2021-01-14 00:03:00+00:00      0.22  \n",
       "3     2021-01-14 00:04:00+00:00      0.23  \n",
       "4                           NaN       NaN  \n",
       "...                         ...       ...  \n",
       "1434                        NaN  99998.00  \n",
       "1435                        NaN  99998.00  \n",
       "1436                        NaN  99998.00  \n",
       "1437                        NaN  99998.00  \n",
       "1438                        NaN  99998.00  \n",
       "\n",
       "[1439 rows x 6 columns]"
      ]
     },
     "execution_count": 244,
     "metadata": {},
     "output_type": "execute_result"
    }
   ],
   "source": [
    "df_new"
   ]
  },
  {
   "cell_type": "markdown",
   "id": "illegal-comparative",
   "metadata": {},
   "source": [
    "#### step s2-2:剔除掉默认值为`-9999`的行"
   ]
  },
  {
   "cell_type": "code",
   "execution_count": 252,
   "id": "apart-colors",
   "metadata": {},
   "outputs": [],
   "source": [
    "dfs_filter=df_new[df_new['rad']!=np.float64(99998)]"
   ]
  },
  {
   "cell_type": "code",
   "execution_count": 253,
   "id": "catholic-afghanistan",
   "metadata": {},
   "outputs": [
    {
     "data": {
      "text/html": [
       "<div>\n",
       "<style scoped>\n",
       "    .dataframe tbody tr th:only-of-type {\n",
       "        vertical-align: middle;\n",
       "    }\n",
       "\n",
       "    .dataframe tbody tr th {\n",
       "        vertical-align: top;\n",
       "    }\n",
       "\n",
       "    .dataframe thead th {\n",
       "        text-align: right;\n",
       "    }\n",
       "</style>\n",
       "<table border=\"1\" class=\"dataframe\">\n",
       "  <thead>\n",
       "    <tr style=\"text-align: right;\">\n",
       "      <th></th>\n",
       "      <th>index</th>\n",
       "      <th>dt_x</th>\n",
       "      <th>ts</th>\n",
       "      <th>Unnamed: 0</th>\n",
       "      <th>dt_y</th>\n",
       "      <th>rad</th>\n",
       "    </tr>\n",
       "  </thead>\n",
       "  <tbody>\n",
       "    <tr>\n",
       "      <th>0</th>\n",
       "      <td>18721.0</td>\n",
       "      <td>2021-01-14 00:01:00+00:00</td>\n",
       "      <td>1610582460</td>\n",
       "      <td>NaN</td>\n",
       "      <td>NaN</td>\n",
       "      <td>NaN</td>\n",
       "    </tr>\n",
       "    <tr>\n",
       "      <th>1</th>\n",
       "      <td>18722.0</td>\n",
       "      <td>2021-01-14 00:02:00+00:00</td>\n",
       "      <td>1610582520</td>\n",
       "      <td>12988.0</td>\n",
       "      <td>2021-01-14 00:02:00+00:00</td>\n",
       "      <td>0.22</td>\n",
       "    </tr>\n",
       "    <tr>\n",
       "      <th>2</th>\n",
       "      <td>18723.0</td>\n",
       "      <td>2021-01-14 00:03:00+00:00</td>\n",
       "      <td>1610582580</td>\n",
       "      <td>12989.0</td>\n",
       "      <td>2021-01-14 00:03:00+00:00</td>\n",
       "      <td>0.22</td>\n",
       "    </tr>\n",
       "    <tr>\n",
       "      <th>3</th>\n",
       "      <td>18724.0</td>\n",
       "      <td>2021-01-14 00:04:00+00:00</td>\n",
       "      <td>1610582640</td>\n",
       "      <td>12990.0</td>\n",
       "      <td>2021-01-14 00:04:00+00:00</td>\n",
       "      <td>0.23</td>\n",
       "    </tr>\n",
       "    <tr>\n",
       "      <th>4</th>\n",
       "      <td>18725.0</td>\n",
       "      <td>2021-01-14 00:05:00+00:00</td>\n",
       "      <td>1610582700</td>\n",
       "      <td>NaN</td>\n",
       "      <td>NaN</td>\n",
       "      <td>NaN</td>\n",
       "    </tr>\n",
       "    <tr>\n",
       "      <th>...</th>\n",
       "      <td>...</td>\n",
       "      <td>...</td>\n",
       "      <td>...</td>\n",
       "      <td>...</td>\n",
       "      <td>...</td>\n",
       "      <td>...</td>\n",
       "    </tr>\n",
       "    <tr>\n",
       "      <th>976</th>\n",
       "      <td>19697.0</td>\n",
       "      <td>2021-01-14 16:17:00+00:00</td>\n",
       "      <td>1610641020</td>\n",
       "      <td>13624.0</td>\n",
       "      <td>2021-01-14 16:17:00+00:00</td>\n",
       "      <td>1.84</td>\n",
       "    </tr>\n",
       "    <tr>\n",
       "      <th>977</th>\n",
       "      <td>19698.0</td>\n",
       "      <td>2021-01-14 16:18:00+00:00</td>\n",
       "      <td>1610641080</td>\n",
       "      <td>13625.0</td>\n",
       "      <td>2021-01-14 16:18:00+00:00</td>\n",
       "      <td>1.84</td>\n",
       "    </tr>\n",
       "    <tr>\n",
       "      <th>978</th>\n",
       "      <td>19699.0</td>\n",
       "      <td>2021-01-14 16:19:00+00:00</td>\n",
       "      <td>1610641140</td>\n",
       "      <td>13626.0</td>\n",
       "      <td>2021-01-14 16:19:00+00:00</td>\n",
       "      <td>1.83</td>\n",
       "    </tr>\n",
       "    <tr>\n",
       "      <th>979</th>\n",
       "      <td>19700.0</td>\n",
       "      <td>2021-01-14 16:20:00+00:00</td>\n",
       "      <td>1610641200</td>\n",
       "      <td>NaN</td>\n",
       "      <td>NaN</td>\n",
       "      <td>NaN</td>\n",
       "    </tr>\n",
       "    <tr>\n",
       "      <th>980</th>\n",
       "      <td>19701.0</td>\n",
       "      <td>2021-01-14 16:21:00+00:00</td>\n",
       "      <td>1610641260</td>\n",
       "      <td>13627.0</td>\n",
       "      <td>2021-01-14 16:21:00+00:00</td>\n",
       "      <td>1.83</td>\n",
       "    </tr>\n",
       "  </tbody>\n",
       "</table>\n",
       "<p>981 rows × 6 columns</p>\n",
       "</div>"
      ],
      "text/plain": [
       "       index                      dt_x          ts  Unnamed: 0  \\\n",
       "0    18721.0 2021-01-14 00:01:00+00:00  1610582460         NaN   \n",
       "1    18722.0 2021-01-14 00:02:00+00:00  1610582520     12988.0   \n",
       "2    18723.0 2021-01-14 00:03:00+00:00  1610582580     12989.0   \n",
       "3    18724.0 2021-01-14 00:04:00+00:00  1610582640     12990.0   \n",
       "4    18725.0 2021-01-14 00:05:00+00:00  1610582700         NaN   \n",
       "..       ...                       ...         ...         ...   \n",
       "976  19697.0 2021-01-14 16:17:00+00:00  1610641020     13624.0   \n",
       "977  19698.0 2021-01-14 16:18:00+00:00  1610641080     13625.0   \n",
       "978  19699.0 2021-01-14 16:19:00+00:00  1610641140     13626.0   \n",
       "979  19700.0 2021-01-14 16:20:00+00:00  1610641200         NaN   \n",
       "980  19701.0 2021-01-14 16:21:00+00:00  1610641260     13627.0   \n",
       "\n",
       "                          dt_y   rad  \n",
       "0                          NaN   NaN  \n",
       "1    2021-01-14 00:02:00+00:00  0.22  \n",
       "2    2021-01-14 00:03:00+00:00  0.22  \n",
       "3    2021-01-14 00:04:00+00:00  0.23  \n",
       "4                          NaN   NaN  \n",
       "..                         ...   ...  \n",
       "976  2021-01-14 16:17:00+00:00  1.84  \n",
       "977  2021-01-14 16:18:00+00:00  1.84  \n",
       "978  2021-01-14 16:19:00+00:00  1.83  \n",
       "979                        NaN   NaN  \n",
       "980  2021-01-14 16:21:00+00:00  1.83  \n",
       "\n",
       "[981 rows x 6 columns]"
      ]
     },
     "execution_count": 253,
     "metadata": {},
     "output_type": "execute_result"
    }
   ],
   "source": [
    "dfs_filter"
   ]
  },
  {
   "cell_type": "code",
   "execution_count": 257,
   "id": "actual-transformation",
   "metadata": {},
   "outputs": [
    {
     "name": "stderr",
     "output_type": "stream",
     "text": [
      "C:\\Users\\evase\\Anaconda3\\envs\\new_oil_gdal\\lib\\site-packages\\ipykernel_launcher.py:2: SettingWithCopyWarning: \n",
      "A value is trying to be set on a copy of a slice from a DataFrame.\n",
      "Try using .loc[row_indexer,col_indexer] = value instead\n",
      "\n",
      "See the caveats in the documentation: https://pandas.pydata.org/pandas-docs/stable/user_guide/indexing.html#returning-a-view-versus-a-copy\n",
      "  \n"
     ]
    }
   ],
   "source": [
    "rad_list=dfs_filter['rad'].interpolate(method='linear',limit=60,limit_direction ='backward')\n",
    "dfs_filter['rad']=rad_list"
   ]
  },
  {
   "cell_type": "code",
   "execution_count": 255,
   "id": "comfortable-concert",
   "metadata": {},
   "outputs": [
    {
     "data": {
      "image/png": "[encoded data removed]",
      "text/plain": [
       "<Figure size 432x288 with 1 Axes>"
      ]
     },
     "metadata": {
      "needs_background": "light"
     },
     "output_type": "display_data"
    }
   ],
   "source": [
    "plt.plot(dfs_filter['dt_x'],rad_list.to_list())\n",
    "plt.show()"
   ]
  },
  {
   "cell_type": "markdown",
   "id": "impressed-defeat",
   "metadata": {},
   "source": [
    "----"
   ]
  },
  {
   "cell_type": "markdown",
   "id": "united-cargo",
   "metadata": {},
   "source": [
    "对差值后的`df`按照全月时间再进行一次填充"
   ]
  },
  {
   "cell_type": "code",
   "execution_count": 259,
   "id": "exposed-lexington",
   "metadata": {},
   "outputs": [],
   "source": [
    "reslt_all_df = pd.merge(dt_split_minute_stamp_df, dfs_filter, on='ts', how='outer')"
   ]
  },
  {
   "cell_type": "code",
   "execution_count": 262,
   "id": "fabulous-mailman",
   "metadata": {},
   "outputs": [
    {
     "data": {
      "text/html": [
       "<div>\n",
       "<style scoped>\n",
       "    .dataframe tbody tr th:only-of-type {\n",
       "        vertical-align: middle;\n",
       "    }\n",
       "\n",
       "    .dataframe tbody tr th {\n",
       "        vertical-align: top;\n",
       "    }\n",
       "\n",
       "    .dataframe thead th {\n",
       "        text-align: right;\n",
       "    }\n",
       "</style>\n",
       "<table border=\"1\" class=\"dataframe\">\n",
       "  <thead>\n",
       "    <tr style=\"text-align: right;\">\n",
       "      <th></th>\n",
       "      <th>index_x</th>\n",
       "      <th>dt</th>\n",
       "      <th>ts</th>\n",
       "      <th>index_y</th>\n",
       "      <th>dt_x</th>\n",
       "      <th>Unnamed: 0</th>\n",
       "      <th>dt_y</th>\n",
       "      <th>rad</th>\n",
       "    </tr>\n",
       "  </thead>\n",
       "  <tbody>\n",
       "    <tr>\n",
       "      <th>0</th>\n",
       "      <td>0</td>\n",
       "      <td>2021-01-01 00:00:00+00:00</td>\n",
       "      <td>1609459200</td>\n",
       "      <td>NaN</td>\n",
       "      <td>NaT</td>\n",
       "      <td>NaN</td>\n",
       "      <td>NaN</td>\n",
       "      <td>NaN</td>\n",
       "    </tr>\n",
       "    <tr>\n",
       "      <th>1</th>\n",
       "      <td>1</td>\n",
       "      <td>2021-01-01 00:01:00+00:00</td>\n",
       "      <td>1609459260</td>\n",
       "      <td>NaN</td>\n",
       "      <td>NaT</td>\n",
       "      <td>NaN</td>\n",
       "      <td>NaN</td>\n",
       "      <td>NaN</td>\n",
       "    </tr>\n",
       "    <tr>\n",
       "      <th>2</th>\n",
       "      <td>2</td>\n",
       "      <td>2021-01-01 00:02:00+00:00</td>\n",
       "      <td>1609459320</td>\n",
       "      <td>NaN</td>\n",
       "      <td>NaT</td>\n",
       "      <td>NaN</td>\n",
       "      <td>NaN</td>\n",
       "      <td>NaN</td>\n",
       "    </tr>\n",
       "    <tr>\n",
       "      <th>3</th>\n",
       "      <td>3</td>\n",
       "      <td>2021-01-01 00:03:00+00:00</td>\n",
       "      <td>1609459380</td>\n",
       "      <td>NaN</td>\n",
       "      <td>NaT</td>\n",
       "      <td>NaN</td>\n",
       "      <td>NaN</td>\n",
       "      <td>NaN</td>\n",
       "    </tr>\n",
       "    <tr>\n",
       "      <th>4</th>\n",
       "      <td>4</td>\n",
       "      <td>2021-01-01 00:04:00+00:00</td>\n",
       "      <td>1609459440</td>\n",
       "      <td>NaN</td>\n",
       "      <td>NaT</td>\n",
       "      <td>NaN</td>\n",
       "      <td>NaN</td>\n",
       "      <td>NaN</td>\n",
       "    </tr>\n",
       "  </tbody>\n",
       "</table>\n",
       "</div>"
      ],
      "text/plain": [
       "   index_x                        dt          ts  index_y dt_x  Unnamed: 0  \\\n",
       "0        0 2021-01-01 00:00:00+00:00  1609459200      NaN  NaT         NaN   \n",
       "1        1 2021-01-01 00:01:00+00:00  1609459260      NaN  NaT         NaN   \n",
       "2        2 2021-01-01 00:02:00+00:00  1609459320      NaN  NaT         NaN   \n",
       "3        3 2021-01-01 00:03:00+00:00  1609459380      NaN  NaT         NaN   \n",
       "4        4 2021-01-01 00:04:00+00:00  1609459440      NaN  NaT         NaN   \n",
       "\n",
       "  dt_y  rad  \n",
       "0  NaN  NaN  \n",
       "1  NaN  NaN  \n",
       "2  NaN  NaN  \n",
       "3  NaN  NaN  \n",
       "4  NaN  NaN  "
      ]
     },
     "execution_count": 262,
     "metadata": {},
     "output_type": "execute_result"
    }
   ],
   "source": [
    "reslt_all_df.head()"
   ]
  },
  {
   "cell_type": "code",
   "execution_count": 265,
   "id": "confident-basis",
   "metadata": {},
   "outputs": [
    {
     "data": {
      "image/png": "[encoded data removed]",
      "text/plain": [
       "<Figure size 432x288 with 1 Axes>"
      ]
     },
     "metadata": {
      "needs_background": "light"
     },
     "output_type": "display_data"
    }
   ],
   "source": [
    "plt.plot(reslt_all_df['dt'],reslt_all_df['rad'])\n",
    "plt.show()"
   ]
  }
 ],
 "metadata": {
  "kernelspec": {
   "display_name": "Python 3",
   "language": "python",
   "name": "python3"
  },
  "language_info": {
   "codemirror_mode": {
    "name": "ipython",
    "version": 3
   },
   "file_extension": ".py",
   "mimetype": "text/x-python",
   "name": "python",
   "nbconvert_exporter": "python",
   "pygments_lexer": "ipython3",
   "version": "3.7.4"
  }
 },
 "nbformat": 4,
 "nbformat_minor": 5
}
